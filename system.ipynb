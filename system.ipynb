{
 "cells": [
  {
   "cell_type": "markdown",
   "id": "b03f2cfe",
   "metadata": {},
   "source": [
    "# Indexer"
   ]
  },
  {
   "cell_type": "code",
   "execution_count": 3,
   "id": "3b3ef6cc",
   "metadata": {},
   "outputs": [],
   "source": [
    "from langchain_community.document_loaders import TextLoader\n",
    "from langchain_text_splitters import CharacterTextSplitter\n",
    "\n",
    "from langchain_huggingface import HuggingFaceEmbeddings\n",
    "from langchain_community.vectorstores import FAISS"
   ]
  },
  {
   "cell_type": "code",
   "execution_count": null,
   "id": "b5ec73c7",
   "metadata": {},
   "outputs": [],
   "source": [
    "chunk_size = 1500\n",
    "chunk_overlap = 0.1 * chunk_size\n",
    "DEVICE = 'cuda'\n",
    "\n",
    "docs = TextLoader('config/notes.txt', encoding='utf-8').load()\n",
    "splitter = CharacterTextSplitter(chunk_size=chunk_size, chunk_overlap=chunk_overlap)\n",
    "chunks = splitter.split_documents(docs)\n",
    "del docs\n",
    "\n",
    "vector_database = FAISS.from_documents(\n",
    "    documents=chunks,\n",
    "    embedding=HuggingFaceEmbeddings(\n",
    "        model_name='config/embedding_model/',\n",
    "        model_kwargs={'device': DEVICE},\n",
    "    ),\n",
    ")\n",
    "vector_database.save_local('config/knowledge-base/')"
   ]
  },
  {
   "cell_type": "markdown",
   "id": "714084cc",
   "metadata": {},
   "source": [
    "# Responder"
   ]
  },
  {
   "cell_type": "code",
   "execution_count": 1,
   "id": "186ca0d1",
   "metadata": {},
   "outputs": [],
   "source": [
    "from langchain_huggingface import HuggingFaceEmbeddings\n",
    "from langchain_community.vectorstores import FAISS\n",
    "\n",
    "from langchain_core.prompts import PromptTemplate\n",
    "from langchain_ollama import ChatOllama"
   ]
  },
  {
   "cell_type": "code",
   "execution_count": 2,
   "id": "23486f8a",
   "metadata": {},
   "outputs": [],
   "source": [
    "DEVICE = 'cuda'\n",
    "k = 3\n",
    "generator_model = 'gemma3:12b'\n",
    "\n",
    "\n",
    "vector_database = FAISS.load_local(\n",
    "    folder_path='config/knowledge-base/',\n",
    "    embeddings=HuggingFaceEmbeddings(\n",
    "        model_name='config/embedding_model/',\n",
    "        model_kwargs={'device': DEVICE},\n",
    "    ),\n",
    "    allow_dangerous_deserialization=True\n",
    ")\n",
    "\n",
    "def retriever(query):\n",
    "    docs = vector_database.similarity_search(query)\n",
    "    context = '\\n\\n'.join([doc.page_content for doc in docs])\n",
    "    return {\n",
    "        'query': query,\n",
    "        'context': context,\n",
    "    }\n",
    "\n",
    "with open('config/prompt.txt', 'r', encoding='utf-8') as f:\n",
    "    prompt_template = f.read()\n",
    "prompt = PromptTemplate(template=prompt_template)\n",
    "llm = ChatOllama(model=generator_model, temperature=0.5, streamming=True)\n",
    "tutor = retriever | prompt | llm"
   ]
  },
  {
   "cell_type": "code",
   "execution_count": 3,
   "id": "da15f7d4",
   "metadata": {},
   "outputs": [],
   "source": [
    "query = '''\n",
    "انواع توپولوژی های شبکه را توضیح بده.\n",
    "'''.strip()"
   ]
  },
  {
   "cell_type": "code",
   "execution_count": 4,
   "id": "87e8bd35",
   "metadata": {},
   "outputs": [
    {
     "name": "stderr",
     "output_type": "stream",
     "text": [
      "C:\\Users\\omid\\AppData\\Local\\Packages\\PythonSoftwareFoundation.Python.3.11_qbz5n2kfra8p0\\LocalCache\\local-packages\\Python311\\site-packages\\torch\\nn\\modules\\module.py:1762: FutureWarning: `encoder_attention_mask` is deprecated and will be removed in version 4.55.0 for `BertSdpaSelfAttention.forward`.\n",
      "  return forward_call(*args, **kwargs)\n"
     ]
    },
    {
     "name": "stdout",
     "output_type": "stream",
     "text": [
      "Okay, let's break down the different types of network topologies, based on the notes you provided.\n",
      "\n",
      "**What is a \"Network Topology\"?**\n",
      "\n",
      "Think of a network topology as the *layout* or *arrangement* of computers and devices in a network. It's how they're physically connected. Here are the types mentioned in the notes:\n",
      "\n",
      "*   **BUS Topology:** Imagine all the computers connected to a single cable. That's a bus topology. It's simple and cheap to set up, but if that main cable breaks, the whole network goes down. Also, there can be problems if two computers try to send data at the same time.\n",
      "*   **Ring Topology:** In this setup, computers are connected in a circle.\n",
      "*   **Star Topology:** This is the most common type. All computers connect to a central point, like a switch or hub. If one computer has a problem, it doesn't affect the rest of the network.\n",
      "*   **Mesh Topology:** Every computer is connected to every other computer. This is very secure and fast, but it's only practical with a smaller number of computers.\n",
      "*   **Tree Topology:** This is like a tree branch structure, where each section of the network is limited to itself.\n",
      "\n",
      "Does that explanation help you understand the different network topologies?"
     ]
    }
   ],
   "source": [
    "for chunk in tutor.stream(query):\n",
    "    print(chunk.content, end=\"\", flush=True)"
   ]
  }
 ],
 "metadata": {
  "kernelspec": {
   "display_name": "Python 3",
   "language": "python",
   "name": "python3"
  },
  "language_info": {
   "codemirror_mode": {
    "name": "ipython",
    "version": 3
   },
   "file_extension": ".py",
   "mimetype": "text/x-python",
   "name": "python",
   "nbconvert_exporter": "python",
   "pygments_lexer": "ipython3",
   "version": "3.11.9"
  }
 },
 "nbformat": 4,
 "nbformat_minor": 5
}
